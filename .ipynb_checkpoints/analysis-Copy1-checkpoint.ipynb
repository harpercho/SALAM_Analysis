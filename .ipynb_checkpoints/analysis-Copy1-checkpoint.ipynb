{
 "cells": [
  {
   "cell_type": "code",
   "execution_count": 2,
   "metadata": {
    "collapsed": false
   },
   "outputs": [],
   "source": [
    "import numpy as np\n",
    "import pynbody\n",
    "import pynbody.plot as pp\n",
    "import pynbody.plot.sph\n",
    "import pynbody.filt as filt\n",
    "import pynbody.units as units\n",
    "import pynbody.analysis.profile as profile\n",
    "import sys, os, glob, pickle, pylab as plt, struct\n",
    "\n",
    "# Report basic halo properties - total mass, size,\n",
    "# stellar mass, star formation rate, star formation history,\n",
    "# make plots as a function of time"
   ]
  },
  {
   "cell_type": "code",
   "execution_count": 8,
   "metadata": {
    "collapsed": false
   },
   "outputs": [],
   "source": [
    "# Halo mass\n",
    "def mass(h):\n",
    "    return h['mass'].sum().in_units('Msol')\n",
    "\n",
    "# Halo size\n",
    "\n",
    "# Stellar Mass\n",
    "def mstar(h):\n",
    "    return h.s['mass'].sum().in_units('Msol')\n",
    "\n",
    "# Star formation Rate\n",
    "def sfr(h):\n",
    "    fifmyrf = filt.LowPass('age','15 Myr')\n",
    "\n",
    "def find_sfh(h,bins=100):\n",
    "    trange = [h.star['tform'].in_units(\"Gyr\").min(),h.star['tform'].in_units(\"Gyr\").max()]\n",
    "    binnorm = 1e-9*bins / (trange[1] - trange[0])\n",
    "    tforms = h.star['tform'].in_units('Gyr')\n",
    "    try:\n",
    "        weight = h.star['massform'].in_units('Msol') * binnorm\n",
    "    except:\n",
    "        weight = h.star['mass'].in_units('Msol') * binnorm\n",
    "    sfh,sfhbines = np.histogram(tforms, weights=weight)\n",
    "    sfhtimes = 0.5*(sfhbines[1:]+sfhbines[:-1])\n",
    "    return sfh,sfhtimes\n",
    "\n",
    "def write(s,filename='dumbfile.out'):\n",
    "    f = pynbody.util.open_(filename,'wb')\n",
    "    f.write(struct.pack(\">i\", len(s)))\n",
    "    s.tofile(f)\n",
    "    f.close()\n",
    "\n",
    "simname = \"/scratch/hc2347/simulations/g4.48e10/g4.48e10.00400\"\n",
    "\n",
    "s = pynbody.load(simname)\n",
    "h = s.halos()\n",
    "\n",
    "i = 1\n"
   ]
  },
  {
   "cell_type": "code",
   "execution_count": 9,
   "metadata": {
    "collapsed": true
   },
   "outputs": [],
   "source": [
    "pickle.dump({'z':s.properties['z'],\n",
    "             'time' : s.properties['time'].in_units('Gyr'),\n",
    "             'mass' : mass(h[i]),\n",
    "             'mstar' : mstar(h[i]),\n",
    "             'sfr':sfr(h[i]),\n",
    "            },open(simname+'.data','w'))"
   ]
  },
  {
   "cell_type": "code",
   "execution_count": null,
   "metadata": {
    "collapsed": true
   },
   "outputs": [],
   "source": []
  }
 ],
 "metadata": {
  "kernelspec": {
   "display_name": "Python 2",
   "language": "python",
   "name": "python2"
  },
  "language_info": {
   "codemirror_mode": {
    "name": "ipython",
    "version": 2
   },
   "file_extension": ".py",
   "mimetype": "text/x-python",
   "name": "python",
   "nbconvert_exporter": "python",
   "pygments_lexer": "ipython2",
   "version": "2.7.13"
  }
 },
 "nbformat": 4,
 "nbformat_minor": 0
}
