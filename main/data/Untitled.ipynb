{
 "cells": [
  {
   "cell_type": "code",
   "execution_count": 2,
   "metadata": {},
   "outputs": [],
   "source": [
    "import pynbody\n",
    "import pickle\n",
    "import os\n",
    "import pynbody.filt as filt\n"
   ]
  },
  {
   "cell_type": "code",
   "execution_count": 23,
   "metadata": {},
   "outputs": [],
   "source": [
    "sim = '/scratch/kld8/simulations/LRZ_Planck60/planck.new.hydro.60_600.00032'"
   ]
  },
  {
   "cell_type": "code",
   "execution_count": 24,
   "metadata": {},
   "outputs": [],
   "source": [
    "s = pynbody.load(sim)\n",
    "h = s.halos()"
   ]
  },
  {
   "cell_type": "code",
   "execution_count": 28,
   "metadata": {},
   "outputs": [
    {
     "data": {
      "text/plain": [
       "Unit(\"9.74e+05 kpc a\")"
      ]
     },
     "execution_count": 28,
     "metadata": {},
     "output_type": "execute_result"
    }
   ],
   "source": [
    "s.properties['boxsize']"
   ]
  },
  {
   "cell_type": "code",
   "execution_count": 29,
   "metadata": {},
   "outputs": [
    {
     "data": {
      "text/plain": [
       "{'a': 0.09179094994964297,\n",
       " 'boxsize': Unit(\"8.94e+04 kpc a\"),\n",
       " 'h': 0.6710431436818002,\n",
       " 'omegaL0': 0.6825,\n",
       " 'omegaM0': 0.3175,\n",
       " 'time': Unit(\"4.90e-01 s kpc km**-1\")}"
      ]
     },
     "execution_count": 29,
     "metadata": {},
     "output_type": "execute_result"
    }
   ],
   "source": [
    "s.properties"
   ]
  },
  {
   "cell_type": "code",
   "execution_count": 5,
   "metadata": {},
   "outputs": [],
   "source": [
    "def radius_cut(halo):\n",
    "    try:\n",
    "        RVIR = halo.properties['Rvir']\n",
    "        #RVIR = pynbody.array.SimArray(np.max(halo['r'].in_units('kpc')),'kpc')\n",
    "    except Exception as e:\n",
    "        print(\"No RVIR.\")\n",
    "        print(e)\n",
    "#         try:\n",
    "#             RVIR = halo.properties['Rvir']\n",
    "#         except:\n",
    "#                 print(\"No RVIR.\")\n",
    "#                 return halo\n",
    "                \n",
    "    print(\"Old RVIR: \" + str(RVIR) + \" New RVIR: \" + str(RVIR*0.2))\n",
    "    diskf = filt.Sphere(str(RVIR*0.2) +' kpc') #20% Virial Radius"
   ]
  },
  {
   "cell_type": "code",
   "execution_count": 7,
   "metadata": {},
   "outputs": [],
   "source": [
    "def center(halo):\n",
    "    try:\n",
    "        # Make vel=True only if velocity is useful in the quantities being obtained.\n",
    "        # By default uses 'ssc' mode according to pynbody.config\n",
    "        centering = pynbody.analysis.halo.center(halo, vel=False)\n",
    "    except Exception as e:\n",
    "        print(\"Could not center: {}\".format(e), flush=True)"
   ]
  },
  {
   "cell_type": "code",
   "execution_count": 2,
   "metadata": {},
   "outputs": [
    {
     "name": "stdout",
     "output_type": "stream",
     "text": [
      "60\n"
     ]
    }
   ],
   "source": [
    "step = 'planck.new.hydro.60_600.00832'\n",
    "box = step.split('.')[3].split('_')[0]\n",
    "\n",
    "print(box)"
   ]
  },
  {
   "cell_type": "code",
   "execution_count": 3,
   "metadata": {},
   "outputs": [],
   "source": [
    "    LIST_PATH = '/scratch/hc2347/references/' + box + '_' + step.split('.')[-1] + '_filtered_halos.p'\n"
   ]
  },
  {
   "cell_type": "code",
   "execution_count": 4,
   "metadata": {},
   "outputs": [
    {
     "name": "stdout",
     "output_type": "stream",
     "text": [
      "/scratch/hc2347/references/60_00832_filtered_halos.p\n"
     ]
    }
   ],
   "source": [
    "print(LIST_PATH)"
   ]
  },
  {
   "cell_type": "code",
   "execution_count": 5,
   "metadata": {},
   "outputs": [],
   "source": [
    "    pickle_path = \"/scratch/hc2347/pickles/{}\".format(box)\n"
   ]
  },
  {
   "cell_type": "code",
   "execution_count": 6,
   "metadata": {},
   "outputs": [
    {
     "name": "stdout",
     "output_type": "stream",
     "text": [
      "/scratch/hc2347/pickles/60\n"
     ]
    }
   ],
   "source": [
    "print(pickle_path)"
   ]
  },
  {
   "cell_type": "code",
   "execution_count": 10,
   "metadata": {},
   "outputs": [
    {
     "name": "stdout",
     "output_type": "stream",
     "text": [
      "/scratch/hc2347/pickles/60/centered_0.200.p\n"
     ]
    }
   ],
   "source": [
    "import os\n",
    "zred = 0.2\n",
    "OUTPUT = os.path.join(\"/scratch/hc2347/pickles/{}\".format(box),'centered_{:.3f}.p'.format(zred))\n",
    "print(OUTPUT)"
   ]
  },
  {
   "cell_type": "code",
   "execution_count": null,
   "metadata": {},
   "outputs": [],
   "source": []
  }
 ],
 "metadata": {
  "kernelspec": {
   "display_name": "Python 3",
   "language": "python",
   "name": "python3"
  },
  "language_info": {
   "codemirror_mode": {
    "name": "ipython",
    "version": 3
   },
   "file_extension": ".py",
   "mimetype": "text/x-python",
   "name": "python",
   "nbconvert_exporter": "python",
   "pygments_lexer": "ipython3",
   "version": "3.5.6"
  }
 },
 "nbformat": 4,
 "nbformat_minor": 4
}
