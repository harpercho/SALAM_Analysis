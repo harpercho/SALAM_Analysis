{
 "cells": [
  {
   "cell_type": "code",
   "execution_count": 2,
   "metadata": {},
   "outputs": [],
   "source": [
    "%matplotlib inline\n",
    "\n",
    "import numpy as np\n",
    "import pynbody\n",
    "import pynbody.filt as filt\n",
    "import pynbody.units as units\n",
    "import pynbody.analysis.profile as profile\n",
    "import matplotlib.pyplot as plt\n",
    "import sys, os, glob, pickle, pylab as plt, struct\n",
    "from plots import *"
   ]
  },
  {
   "cell_type": "code",
   "execution_count": 3,
   "metadata": {},
   "outputs": [],
   "source": [
    "# Path\n",
    "sim_path = \"/scratch/kld8/simulations/Planck60_600\"\n",
    "\n",
    "#  Collected sim directory\n",
    "dirs = glob.glob(os.path.join(sim_path +'/*.0????'))"
   ]
  },
  {
   "cell_type": "code",
   "execution_count": null,
   "metadata": {},
   "outputs": [],
   "source": [
    "s = pynbody.load(dirs[1])\n",
    "h = s.halos()"
   ]
  },
  {
   "cell_type": "code",
   "execution_count": 13,
   "metadata": {},
   "outputs": [
    {
     "name": "stdout",
     "output_type": "stream",
     "text": [
      "93819\n"
     ]
    },
    {
     "name": "stderr",
     "output_type": "stream",
     "text": [
      "/home/hc2347/miniconda3/envs/my_root/lib/python3.8/site-packages/pynbody/analysis/hmf.py:94: RuntimeWarning: Using the default power-spectrum spectrum which assumes ns=0.96 and WMAP7+H0+BAO transfer function.\n",
      "  warnings.warn(\n",
      "/home/hc2347/miniconda3/envs/my_root/lib/python3.8/site-packages/pynbody/simdict.py:91: RuntimeWarning: Assuming default value for property 'sigma8'=8.29e-01\n",
      "  warnings.warn(\"Assuming default value for property '%s'=%.2e\" % (\n",
      "/home/hc2347/miniconda3/envs/my_root/lib/python3.8/site-packages/pynbody/analysis/hmf.py:167: RuntimeWarning: Power spectrum does not extend to low enough k; using power-law extrapolation (this is likely to be fine)\n",
      "  warnings.warn(\n",
      "/home/hc2347/miniconda3/envs/my_root/lib/python3.8/site-packages/scipy/integrate/quadrature.py:800: AccuracyWarning: divmax (10) exceeded. Latest difference = 1.119588e-04\n",
      "  warnings.warn(\n"
     ]
    }
   ],
   "source": [
    "# Halo Mass Function\n",
    "# Returns the HMF: dN/d log_{10} M in units of Mpc^-3 h^3.\n",
    "print(len(h))\n",
    "\n",
    "hmf = pynbody.analysis.hmf.halo_mass_function(s)\n",
    "\n",
    "plt.loglog(hmf[0],hmf[2])\n",
    "plt.xlabel(\"Mass [$M_\\odot$]\")\n",
    "plt.ylabel(\"Mass Function [$Mpc^{-3} h^{3} a^{-3}$]\")\n",
    "plt.grid()\n",
    "\n",
    "# Linear variance of corresponding sphere\n",
    "plt.plot(hmf[0],hmf[1])\n",
    "plt.xscale(\"log\")\n",
    "plt.grid()"
   ]
  },
  {
   "cell_type": "code",
   "execution_count": 16,
   "metadata": {},
   "outputs": [
    {
     "name": "stdout",
     "output_type": "stream",
     "text": [
      "Started smf\n",
      "5.283975868346225e-07\n"
     ]
    }
   ],
   "source": [
    "# Stellar Mass Function\n",
    "\n",
    "def smf(h):\n",
    "    print(\"Started smf\")\n",
    "    m_stars = h.star['mass'].sum().in_units('Msol')\n",
    "    \n",
    "    "
   ]
  },
  {
   "cell_type": "code",
   "execution_count": null,
   "metadata": {},
   "outputs": [],
   "source": []
  }
 ],
 "metadata": {
  "kernelspec": {
   "display_name": "Python 3",
   "language": "python",
   "name": "python3"
  },
  "language_info": {
   "codemirror_mode": {
    "name": "ipython",
    "version": 3
   },
   "file_extension": ".py",
   "mimetype": "text/x-python",
   "name": "python",
   "nbconvert_exporter": "python",
   "pygments_lexer": "ipython3",
   "version": "3.8.1"
  }
 },
 "nbformat": 4,
 "nbformat_minor": 4
}
