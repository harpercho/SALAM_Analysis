{
 "cells": [
  {
   "cell_type": "code",
   "execution_count": null,
   "metadata": {},
   "outputs": [],
   "source": [
    "import numpy as np\n",
    "import pynbody\n",
    "import pynbody.units as units\n",
    "import matplotlib.pyplot as plt\n",
    "import sys, os, glob, pickle, pylab as plt, struct"
   ]
  },
  {
   "cell_type": "code",
   "execution_count": null,
   "metadata": {},
   "outputs": [],
   "source": [
    "def load_halos_pickle(pickle_path):\n",
    "    \n",
    "    '''\n",
    "    Returns pickle as dictionary\n",
    "    '''\n",
    "        \n",
    "    data = pickle.load( open( pickle_path , \"rb\" ))\n",
    "    \n",
    "    \n",
    "    output = dict([(str(k),np.zeros(len(data))) for k in data[1]])\n",
    "    \n",
    "    for i in range(len(data)):\n",
    "        gal_dict = data[i]\n",
    "        \n",
    "        if gal_dict is not None:\n",
    "            for key, value in output.items():\n",
    "                try:\n",
    "                    value[i] = gal_dict[str(key)] + 1e-12\n",
    "                except:\n",
    "                    pass\n",
    "    return output"
   ]
  },
  {
   "cell_type": "code",
   "execution_count": null,
   "metadata": {},
   "outputs": [],
   "source": [
    "def density_estimate(x, y):\n",
    "    \n",
    "    '''\n",
    "    Calculates the plot density given function m2(m1).\n",
    "    Returns X, Y, Z\n",
    "    '''\n",
    "\n",
    "    from scipy import stats\n",
    "    xmin = x.min()\n",
    "    xmax = x.max()\n",
    "    ymin = y.min()\n",
    "    ymax = y.max()\n",
    "\n",
    "    X, Y = np.mgrid[xmin:xmax:50j, ymin:ymax:50j]\n",
    "    positions = np.vstack([X.ravel(),Y.ravel()])\n",
    "    values = np.vstack([x, y])\n",
    "\n",
    "    kernel = stats.gaussian_kde(values)\n",
    "\n",
    "    Z = np.reshape(kernel(positions).T, X.shape)\n",
    "    \n",
    "    return X, Y, Z"
   ]
  },
  {
   "cell_type": "code",
   "execution_count": null,
   "metadata": {},
   "outputs": [],
   "source": [
    "#path = 'data/60/vol_halo_center_z0.205.p'\n",
    "path = '/scratch/hc2347/pickles/60/main_preload_z0.205.p'\n",
    "\n",
    "#path = 'data/60/1e5_vol_halo_metals_z0.205.p'\n",
    "data = load_halos_pickle(path)\n"
   ]
  },
  {
   "cell_type": "code",
   "execution_count": null,
   "metadata": {},
   "outputs": [],
   "source": [
    "print(data.keys())"
   ]
  },
  {
   "cell_type": "code",
   "execution_count": null,
   "metadata": {},
   "outputs": [],
   "source": [
    "def clean_arrays(array_iter, notzero = False):\n",
    "    cur_mask = np.isfinite(array_iter[0])\n",
    "    for array in array_iter[1:]:\n",
    "        array_mask = np.isfinite(array)\n",
    "        cur_mask = np.where(array_mask==True | cur_mask == True)\n",
    "    if notzero:\n",
    "        for array in array_iter:\n",
    "            cur_mask == np.where(arra)\n",
    "    return cur_mask"
   ]
  },
  {
   "cell_type": "code",
   "execution_count": null,
   "metadata": {},
   "outputs": [],
   "source": [
    "massf = np.where(data['mvir'] > 10**8)"
   ]
  },
  {
   "cell_type": "code",
   "execution_count": null,
   "metadata": {},
   "outputs": [],
   "source": [
    "def is_valid(elm):\n",
    "    return elm > 1 and np.isfinite(elm)\n",
    "\n",
    "def do_filter(a, b):\n",
    "    #print(len(b))\n",
    "    for idx in range(len(b) - 1, -1, -1):\n",
    "        #print(idx)\n",
    "        if not is_valid(b[idx]):\n",
    "                a = np.delete(a,idx)\n",
    "                b = np.delete(b,idx)\n",
    "    return a,b\n",
    "\n",
    "oxh = data['oxh']\n",
    "mstar = data['mstar']\n",
    "oxh, mstar = do_filter(oxh,mstar)\n",
    "print(np.where(np.isinf(oxh)==True))"
   ]
  },
  {
   "cell_type": "code",
   "execution_count": null,
   "metadata": {},
   "outputs": [],
   "source": [
    "# Oxygen Abundance\n",
    "\n",
    "def plot_oxh(oxh,mstar):\n",
    "    \n",
    "    oxh = [oxh[idx] for idx in range(0, len(oxh)) if is_valid(oxh[idx])]\n",
    "    mstar = [mstar[idx] for idx in range(0, len(oxh)) if is_valid(oxh[idx])]\n",
    "    \n",
    "    tremonti = np.genfromtxt('/scratch/hc2347/references/obs/Tremonti_2004_mzr.csv',unpack=True,skip_header=2,delimiter=',')\n",
    "    \n",
    "    median_tr = tremonti[3]\n",
    "    sixteen_tr = tremonti[2]\n",
    "    eightyfour_tr = tremonti[4]\n",
    "    \n",
    "    logmstar_tr =tremonti[0]\n",
    "    \n",
    "    fig, ax = plt.subplots(figsize = (7,7))\n",
    "    \n",
    "    print(\"Beginning density estimate for \" + str(len(oxh)) + \" number of points.\")\n",
    "    \n",
    "    #X, Y, Z = density_estimate(oxh[idx], np.log10(mstar[idx]))\n",
    "    \n",
    "    import multiprocessing\n",
    "    import concurrent.futures\n",
    "    with concurrent.futures.ProcessPoolExecutor(max_workers=20) as executor:\n",
    "        result = executor.map(density_estimate, oxh, mstar) \n",
    "        flat_results = list(result)\n",
    "        print(flat_results)\n",
    "    \n",
    "    #ax.scatter(oxh[idx],np.log10(mstar[idx]))\n",
    "    plt.contourf(X,Y,Z, 20, cmap = 'Blues')\n",
    "    plt.colorbar()\n",
    "    \n",
    "    ax.plot(logmstar_tr, median_tr, marker='+')\n",
    "    ax.fill_between(logmstar_tr, sixteen_tr, y2 = eightyfour_tr, alpha = 0.1, color='orange', label = \"Tremonti 2004\")\n",
    "    ax.set_ylabel('$12+log_{10}(O/H)\\odot)$',fontsize=18)\n",
    "    ax.set_xlabel('$ log M_{*}/M_\\odot$',fontsize=18)\n",
    "    ax.legend()\n",
    "    \n",
    "    ax.set_ylim(8,9.5)\n",
    "    ax.set_xlim(8,12)\n",
    "\n",
    "                              \n",
    "plot_oxh(data['oxh'][massf],data['mstar'][massf])"
   ]
  },
  {
   "cell_type": "code",
   "execution_count": null,
   "metadata": {},
   "outputs": [],
   "source": [
    "# Stellar Metallicity\n",
    "\n",
    "z_star = data['z_star']\n",
    "z_gas = data['z_gas']\n",
    "\n",
    "def plot_stellar_metallicity(z_star, m_star):\n",
    "\n",
    "    z_sol = 0.013 # primordial Solar metallicity\n",
    "\n",
    "\n",
    "    x = np.log10(data['mstar'])\n",
    "    y = np.log10(z_star/z_sol)\n",
    "    gallazzi = np.genfromtxt('/scratch/hc2347/references/obs/Gallazzi_2005_zstar.csv',unpack=True,skip_header=2,delimiter=',')\n",
    "    logmstar_tr = gallazzi[0]\n",
    "\n",
    "    median_tr = gallazzi[1]\n",
    "    sixteen_tr = gallazzi[2]\n",
    "    eightyfour_tr = gallazzi[3]\n",
    "\n",
    "    fig, ax = plt.subplots(figsize=(10,8))\n",
    "\n",
    "    X, Y, Z = density_estimate(x,y)\n",
    "    plt.contourf(X,Y,Z, 20, cmap = 'Blues')\n",
    "    plt.colorbar()\n",
    "\n",
    "    # plot the observation.\n",
    "    ax.plot(logmstar_tr, median_tr, marker='+')\n",
    "    ax.fill_between(logmstar_tr, sixteen_tr, y2 = eightyfour_tr, alpha = 0.1, color='orange', label = \"Gallazzi 2005\")\n",
    "    ax.set_ylabel('$log(Z_{*}/Z_\\odot)$',fontsize=18)\n",
    "    ax.set_xlabel('$ log M_{*}/M_\\odot$',fontsize=18)\n",
    "    ax.legend()\n",
    "\n",
    "    #plt.ylim(7.6,10)\n",
    "    ax.set_ylim(-1.5,0.5)\n",
    "    ax.set_xlim(7,12)"
   ]
  },
  {
   "cell_type": "code",
   "execution_count": null,
   "metadata": {},
   "outputs": [],
   "source": []
  },
  {
   "cell_type": "code",
   "execution_count": null,
   "metadata": {},
   "outputs": [],
   "source": []
  },
  {
   "cell_type": "code",
   "execution_count": null,
   "metadata": {},
   "outputs": [],
   "source": []
  }
 ],
 "metadata": {
  "kernelspec": {
   "display_name": "Python 3",
   "language": "python",
   "name": "python3"
  },
  "language_info": {
   "codemirror_mode": {
    "name": "ipython",
    "version": 3
   },
   "file_extension": ".py",
   "mimetype": "text/x-python",
   "name": "python",
   "nbconvert_exporter": "python",
   "pygments_lexer": "ipython3",
   "version": "3.5.6"
  }
 },
 "nbformat": 4,
 "nbformat_minor": 4
}
