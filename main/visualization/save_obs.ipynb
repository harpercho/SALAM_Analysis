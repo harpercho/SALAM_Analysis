{
 "cells": [
  {
   "cell_type": "code",
   "execution_count": 3,
   "metadata": {},
   "outputs": [],
   "source": [
    "import numpy as np\n",
    "import pynbody\n",
    "import pynbody.filt as filt\n",
    "import pynbody.units as units\n",
    "import matplotlib.pyplot as plt\n",
    "import sys, os, glob, pickle\n"
   ]
  },
  {
   "cell_type": "code",
   "execution_count": 8,
   "metadata": {},
   "outputs": [
    {
     "ename": "SyntaxError",
     "evalue": "invalid syntax (<ipython-input-8-2a624b792e54>, line 60)",
     "output_type": "error",
     "traceback": [
      "\u001b[0;36m  File \u001b[0;32m\"<ipython-input-8-2a624b792e54>\"\u001b[0;36m, line \u001b[0;32m60\u001b[0m\n\u001b[0;31m    return [obs_Mstar_Song,obs_Y_upper_Song, obs_Y_lower_Song,obs_Mstar_dunc, obs_Y_upper_dunc,obs_Y_lower_dunc]\u001b[0m\n\u001b[0m         ^\u001b[0m\n\u001b[0;31mSyntaxError\u001b[0m\u001b[0;31m:\u001b[0m invalid syntax\n"
     ]
    }
   ],
   "source": [
    "def mstar_obs(z):\n",
    "    def Schechter(M, Phi, Mstar, alpha):\n",
    "        return Phi*np.log(10)*10**((M-Mstar)*(alpha+1))*np.exp(-10**((M-Mstar)))\n",
    "    if z == 1:\n",
    "        obs_Mstar = np.array([8.6,8.9,9.1,9.4,9.6,9.9,10.1,10.4,10.6,10.9,11.1,11.4,11.6,11.9])\n",
    "        obs_Y_Mortlock = np.array([-1.79,-1.83,-1.99,-2.06,-2.31,-2.40,-2.48,-2.60,-2.67,-2.55,-2.89,-3.17,-3.47,-4.17])\n",
    "        obs_Yerr_Mortlock = np.array([0.12,0.12,0.11,0.12,0.13,0.12,0.13,0.13,0.13,0.14,0.15,0.15,0.18,0.24])\n",
    "        obs_Y_upper = np.array(obs_Y_Mortlock + obs_Yerr_Mortlock)\n",
    "        obs_Y_lower = np.array(obs_Y_Mortlock - obs_Yerr_Mortlock)\n",
    "        return [obs_Mstar,obs_Y_Mortlock,obs_Yerr_Mortlock,obs_Y_upper,obs_Y_lower]\n",
    "    if z == 2:\n",
    "        obs_Mstar = np.array([9.4,9.6,9.9,10.1,10.4,10.6,10.9,11.1,11.4,11.6,11.9])\n",
    "        obs_Y_Mortlock = np.array([-2.17,-2.15,-2.21,-2.32,-2.62,-2.70,-2.89,-3.45,-3.64 ,-3.98,-4.75])\n",
    "        obs_Yerr_Mortlock = np.array([0.12,0.12,0.12,0.13,0.13,0.13,0.13,0.42,0.4,0.54,1.81])\n",
    "        \n",
    "        obs_Y_upper = np.array(obs_Y_Mortlock + obs_Yerr_Mortlock)\n",
    "        obs_Y_lower = np.array(obs_Y_Mortlock - obs_Yerr_Mortlock)\n",
    "        return [obs_Mstar,obs_Y_Mortlock,obs_Yerr_Mortlock,obs_Y_upper,obs_Y_lower]\n",
    "        \n",
    "    if z == 3:\n",
    "        obs_Mstar = 10**np.array([9.6,9.9,10.1,10.4,10.6,10.9,11.1,11.4,11.6,11.9,12.1])\n",
    "        obs_Y_Mortlock = np.array([-2.45,-2.56,-2.62,-2.88,-2.98,-3.14,-3.96,-3.78,-3.96,-3.96,-3.96])\n",
    "        obs_Yerr_Mortlock = np.array([0.12,0.13,0.13,0.14,0.14,0.16,0.20,0.17,0.19,0.19,0.22])\n",
    "\n",
    "        obs_Y_upper = 10**np.array(obs_Y_Mortlock + obs_Yerr_Mortlock)\n",
    "        obs_Y_lower = 10**np.array(obs_Y_Mortlock - obs_Yerr_Mortlock)\n",
    "        return [obs_Mstar,obs_Y_Mortlock,obs_Yerr_Mortlock,obs_Y_upper,obs_Y_lower]\n",
    "        \n",
    "    if z == 4:\n",
    "        obs_Mstar_Song = 10**np.array([7.25, 7.75, 8.25, 8.75, 9.25, 9.75, 10.25,10.75, 11.25])\n",
    "        obs_Y_Song = np.array([-1.57,-1.77,-2.00,-2.22,-2.52,-2.91,-3.37,-4.00,-4.54])\n",
    "        obs_Y_upper_Song = 10**np.array(obs_Y_Song + np.array([0.21,0.15,0.13,0.09,0.09,0.12,0.09,0.20,0.34]))\n",
    "        obs_Y_lower_Song = 10**np.array(obs_Y_Song - np.array([0.16,0.13,0.10,0.09,0.09,0.05,0.12,0.25,0.55]))\n",
    "        \n",
    "        return [obs_Mstar_Song, obs_Y_Song, obs_Y_upper_Song, obs_Y_lower_Song]\n",
    "\n",
    "    if z == 5:\n",
    "        obs_Mstar_Song = 10**np.array([7.25, 7.75, 8.25, 8.75, 9.25, 9.75, 10.25,10.75, 11.25])\n",
    "        obs_Y_Song = np.array([-1.47, -1.72, -2.01, -2.33, -2.68, -3.12, -3.47, -4.12, -4.88])\n",
    "        obs_Y_upper_Song = 10**np.array(obs_Y_Song + np.array([0.24,0.20,0.16,0.15,0.07,0.09,0.16,0.25,0.40]))\n",
    "        obs_Y_lower_Song = 10**np.array(obs_Y_Song - np.array([0.21,0.20,0.16,0.10,0.14,0.11,0.14,0.38,0.61]))\n",
    "        \n",
    "        return [obs_Mstar_Song, obs_Y_Song, obs_Y_upper_Song, obs_Y_lower_Song]\n",
    "\n",
    "    if z == 6:\n",
    "        # obs_Mstar_Song = 10**np.array([[7.25, 7.75, 8.25, 8.75, 9.25, 9.75, 10.25]])\n",
    "        # obs_Y_Song = 10**np.array([-1.47,-1.81,-2.26,-2.65,-3.14,-3.69,-4.27])\n",
    "        # obs_Y_uppererr = np.array([0.35,0.23,0.21,0.15,0.12,0.12,0.38])\n",
    "        # obs_Y_lowererr = np.array([0.32,0.28,0.16,0.15,0.11,0.13,0.86])\n",
    "        # ax.errorbar(obs_Mstar_Song,obs_Y_Song,yerr=[obs_Y_uppererr,obs_Y_lowererr],label=\"Song 2016\")\n",
    "\n",
    "        obs_Mstar_Song = 10**np.array([7.25, 7.75, 8.25, 8.75, 9.25, 9.75])\n",
    "        obs_Y_upper_Song = 10**np.array([-1.12, -1.58, -2.05, -2.50, -3.02, -3.57])\n",
    "        obs_Y_lower_Song = 10**np.array([-1.79, -2.09, -2.42, -2.80, -3.25, -3.82])\n",
    "\n",
    "        obs_Mstar_dunc = np.array([8., 8.5, 9., 9.5, 9.75])\n",
    "        obs_Y_upper_dunc = Schechter(obs_Mstar_dunc, 8.2e-5, 10.51, -1.90)\n",
    "        obs_Y_lower_dunc = Schechter(obs_Mstar_dunc, 2.e-5, 10.51, -1.90\n",
    "\n",
    "        return [obs_Mstar_Song,obs_Y_upper_Song, obs_Y_lower_Song,obs_Mstar_dunc, obs_Y_upper_dunc,obs_Y_lower_dunc]\n",
    "\n",
    "    if z == 7:\n",
    "        obs_Mstar_Song = 10**np.array([7.25, 7.75, 8.25, 8.75, 9.25, 9.75, 10.25,10.75, 11.25])\n",
    "        obs_Y_Song = np.array([-1.63,-2.07,-2.49,-2.96,-3.47,-4.11,-4.61,-5.24])\n",
    "        obs_Y_upper_Song = 10**np.array(obs_Y_Song + np.array([0.54,0.45,0.38,0.32,0.32,0.41,0.72,0.90]))\n",
    "        obs_Y_lower_Song = 10**np.array(obs_Y_Song - np.array([0.54,0.41,0.32,0.30,0.35,0.57,0.82,0.57]))\n",
    "        \n",
    "        return [obs_Mstar_Song, obs_Y_Song, obs_Y_upper_Song, obs_Y_lower_Song]\n",
    "        \n",
    "    if z == 8:\n",
    "        obs_Mstar_Song = 10**np.array([7.25, 7.75, 8.25, 8.75, 9.25, 9.75])\n",
    "        obs_Y_Song = 10**np.array([-1.73,-2.28,-2.88,-3.45,-5.31])\n",
    "        obs_Y_uppererr = 10**np.array(obs_Y_Song + np.array([1.01,0.84,0.75,0.57,0.63,1.01]))\n",
    "        obs_Y_lowererr = 10**np.array(obs_Y_Song - np.array([0.84,0.64,0.47,0.60,0.78,1.64]))\n",
    "\n",
    "        return [obs_Mstar_Song, obs_Y_Song, obs_Y_uppererr, obs_Y_lowererr]\n",
    "\n",
    "    return None"
   ]
  },
  {
   "cell_type": "code",
   "execution_count": null,
   "metadata": {},
   "outputs": [],
   "source": [
    "def save_obs:\n",
    "    obs_smf = {}\n",
    "    for z in range(8):\n",
    "        obs_smf[z] = {\"Mortlock_Mstar\": }"
   ]
  }
 ],
 "metadata": {
  "kernelspec": {
   "display_name": "Python 3",
   "language": "python",
   "name": "python3"
  },
  "language_info": {
   "codemirror_mode": {
    "name": "ipython",
    "version": 3
   },
   "file_extension": ".py",
   "mimetype": "text/x-python",
   "name": "python",
   "nbconvert_exporter": "python",
   "pygments_lexer": "ipython3",
   "version": "3.5.6"
  }
 },
 "nbformat": 4,
 "nbformat_minor": 4
}
